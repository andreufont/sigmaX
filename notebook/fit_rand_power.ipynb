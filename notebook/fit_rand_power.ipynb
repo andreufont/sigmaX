{
 "cells": [
  {
   "cell_type": "markdown",
   "metadata": {},
   "source": [
    "# Generate and fit random galaxy power spectrum (observed coordinates)\n",
    "\n",
    "Instead of using comoving wavenumbers ($k_\\perp$,$k_\\parallel$), in 1/Mpc, we use dimensionless\n",
    "wavenumbers, corresponding to radians and dv/c = log(1+z):\n",
    "\n",
    "$q_\\perp = k_\\perp D_A(z) (1+z) \\hspace{20pt} q_\\parallel = k_\\parallel D_H(z) (1+z) \\hspace{10pt}$\n",
    "\n",
    "with $\\hspace{10pt} D_H(z) = \\frac{c}{H(z)}$."
   ]
  },
  {
   "cell_type": "code",
   "execution_count": 1,
   "metadata": {
    "collapsed": false
   },
   "outputs": [],
   "source": [
    "%matplotlib inline\n",
    "import numpy as np\n",
    "import os\n",
    "## Set default plot size, as normally its a bit too small\n",
    "import matplotlib.pyplot as plt\n",
    "import matplotlib as mpl\n",
    "mpl.rcParams['savefig.dpi'] = 120\n",
    "mpl.rcParams['figure.dpi'] = 120\n",
    "from sigmaX import cosmology\n",
    "from sigmaX import galaxy_power\n",
    "from sigmaX import galaxy_survey"
   ]
  },
  {
   "cell_type": "markdown",
   "metadata": {},
   "source": [
    "### Setup cosmology dictionaries, with everything we might want to use later on"
   ]
  },
  {
   "cell_type": "code",
   "execution_count": 2,
   "metadata": {
    "collapsed": false
   },
   "outputs": [
    {
     "name": "stdout",
     "output_type": "stream",
     "text": [
      "f = 0.5456054001560122\n",
      "sig8 = [0.79439401]\n",
      "sig12 = [0.79167321]\n",
      "DA = 87.31755529174495\n",
      "DH = 4431.799203422664\n"
     ]
    }
   ],
   "source": [
    "cosmo_true=cosmology.get_cosmo(z=0.02,b=2.0)\n",
    "cosmology.print_cosmo_info(cosmo_true)"
   ]
  },
  {
   "cell_type": "markdown",
   "metadata": {},
   "source": [
    "### Generate random realisation (in observed coordinates)\n",
    "\n",
    "Uncertainties are given by:\n",
    "\n",
    "$\\frac{ \\sigma_P }{P} = 2 \\pi \\sqrt {\\frac{2}{V k^2 dk dmu} } \\frac{1+n P}{n P} = 2 \\pi \\sqrt{ \\frac{2}{V k_t dk_t dk_p} } \\frac{1+n P}{n P}$"
   ]
  },
  {
   "cell_type": "code",
   "execution_count": 3,
   "metadata": {
    "collapsed": false
   },
   "outputs": [
    {
     "data": {
      "text/plain": [
       "Text(0, 0.5, '$P_g(q)$')"
      ]
     },
     "execution_count": 3,
     "metadata": {},
     "output_type": "execute_result"
    },
    {
     "data": {
      "image/png": "[encoded data removed]",
      "text/plain": [
       "<Figure size 720x480 with 2 Axes>"
      ]
     },
     "metadata": {},
     "output_type": "display_data"
    }
   ],
   "source": [
    "survey=galaxy_survey.get_survey(cosmo_true)\n",
    "qt=survey['qt']\n",
    "qp=survey['qp']\n",
    "galP_real,galP_err=galaxy_survey.get_galP_rand(survey,cosmo_true)\n",
    "plt.yscale('log')\n",
    "plt.errorbar(qt,galP_real,yerr=galP_err,fmt=\".\")\n",
    "plt.scatter(qt,galP_real,c=qp)\n",
    "cbar=plt.colorbar()\n",
    "cbar.set_label(r'$q_\\parallel$', labelpad=+1)\n",
    "plt.xlabel(r'$q_\\perp$')\n",
    "plt.ylabel(r'$P_g(q)$')"
   ]
  },
  {
   "cell_type": "markdown",
   "metadata": {},
   "source": [
    "### Make predictions with the wrong cosmology"
   ]
  },
  {
   "cell_type": "code",
   "execution_count": 4,
   "metadata": {
    "collapsed": false
   },
   "outputs": [],
   "source": [
    "# we will use the wrong reference cosmology (different h and Omega_m)\n",
    "cosmo_ref=cosmology.get_cosmo(cosmo_true['z'],H0=50)"
   ]
  },
  {
   "cell_type": "code",
   "execution_count": 5,
   "metadata": {
    "collapsed": false
   },
   "outputs": [
    {
     "name": "stdout",
     "output_type": "stream",
     "text": [
      "f = 0.7447070068827061\n",
      "sig8 = [0.72851928]\n",
      "sig12 = [0.89586132]\n",
      "DA = 116.56741497240378\n",
      "DH = 5894.224842564569\n"
     ]
    }
   ],
   "source": [
    "cosmology.print_cosmo_info(cosmo_ref)"
   ]
  },
  {
   "cell_type": "code",
   "execution_count": 6,
   "metadata": {
    "collapsed": false
   },
   "outputs": [
    {
     "name": "stdout",
     "output_type": "stream",
     "text": [
      "f = 0.5456054001560122\n",
      "sig8 = [0.79439401]\n",
      "sig12 = [0.79167321]\n",
      "DA = 87.31755529174495\n",
      "DH = 4431.799203422664\n"
     ]
    }
   ],
   "source": [
    "cosmology.print_cosmo_info(cosmo_true)"
   ]
  },
  {
   "cell_type": "code",
   "execution_count": null,
   "metadata": {
    "collapsed": true
   },
   "outputs": [],
   "source": []
  },
  {
   "cell_type": "code",
   "execution_count": null,
   "metadata": {
    "collapsed": true
   },
   "outputs": [],
   "source": []
  },
  {
   "cell_type": "code",
   "execution_count": null,
   "metadata": {
    "collapsed": true
   },
   "outputs": [],
   "source": []
  }
 ],
 "metadata": {
  "kernelspec": {
   "display_name": "Python 3",
   "language": "python",
   "name": "python3"
  },
  "language_info": {
   "codemirror_mode": {
    "name": "ipython",
    "version": 3
   },
   "file_extension": ".py",
   "mimetype": "text/x-python",
   "name": "python",
   "nbconvert_exporter": "python",
   "pygments_lexer": "ipython3",
   "version": "3.6.7"
  }
 },
 "nbformat": 4,
 "nbformat_minor": 2
}
